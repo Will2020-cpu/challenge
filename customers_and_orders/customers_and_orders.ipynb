{
  "cells": [
    {
      "cell_type": "markdown",
      "metadata": {
        "id": "piiX_CRNFYUi"
      },
      "source": [
        "# Technical Challenge ! Custiomers and Orders - The lifeblood of any business!\n",
        "\n",
        "This notebook depends on two data files: customers.scv and orders.csv. These files are hosted in the cloud (or Github), so for simplicity, we are providing you with the code to download and save the two files in a folder called 'sample_data' which lives within this notebook session (not on your local computer nor Google Drive).\n",
        "\n",
        "![sample_data folder in notebook session](https://raw.githubusercontent.com/anyoneai/notebooks/main/customers_and_orders/images/sample_data_folder.png)\n",
        "\n",
        "Please execute the first code snippet before moving to the rest of the exercise as this code will import the data from the files for you to be able to execute the rest of the exercise.\n",
        "\n",
        "Remember as we said in the previous lecture, you have to save this notebook into your Google Drive by going to menu File/Save a Copy In Drive, or clicking in the button \"Copy to Drive\". This way, you will not lose any work you've done and the file will persist with your latest changes in your Google Drive. Also we recommend you to rename your .ipynb in your Google Drive, so you can easily find it in the future."
      ]
    },
    {
      "cell_type": "code",
      "execution_count": 2,
      "metadata": {
        "colab": {
          "base_uri": "https://localhost:8080/"
        },
        "id": "MWpVO242FQHC",
        "outputId": "89ba457d-aadd-4374-c874-fb55cf799590"
      },
      "outputs": [
        {
          "output_type": "stream",
          "name": "stdout",
          "text": [
            "Customers and orders CSV files have been added './sample_data'\n"
          ]
        }
      ],
      "source": [
        "import requests\n",
        "\n",
        "def import_data_files():\n",
        "  r = requests.get('https://raw.githubusercontent.com/anyoneai/notebooks/main/customers_and_orders/data/customers.csv')\n",
        "  with open('./sample_data/customers.csv', 'wb') as f:\n",
        "    f.write(r.content)\n",
        "\n",
        "  r = requests.get('https://raw.githubusercontent.com/anyoneai/notebooks/main/custometers_and_orders/data/orders.csv')\n",
        "  with open('./sample_data/orders.csv', 'wb') as f:\n",
        "    f.write(r.content)\n",
        "\n",
        "import_data_files()\n",
        "print(\"Customers and orders CSV files have been added './sample_data'\")"
      ]
    },
    {
      "cell_type": "markdown",
      "metadata": {
        "id": "JQAduY-RWKyB"
      },
      "source": [
        "# Exercise 1: Processing Customers data (difficulty medium)\n",
        "\n",
        "The sample customer data in 'customers.csv' file has just 5 columns: CustomerId, First Name, Last Name, City and State\n",
        "\n",
        "![Data sample](https://raw.githubusercontent.com/anyoneai/notebooks/main/customers_and_orders/images/customers.png)\n",
        "\n",
        "We strongly recommend that you complete from the [Prep Course: Intro to Python](https://colab.research.google.com/github/anyoneai/notebooks/blob/main/python3_crash_course.ipynb) the following section:\n",
        "- Section 7: File I/O (to understand how to read CSV file)\n",
        "- Section 6: For Loop (to navigate the contents of the CSV file)\n",
        "- Section 5: Tuples, Lists, and Dictionaries (to manipulate the data of the CSV file)\n",
        "\n",
        "With this, we hope you can complete this exercise successfully. Although if you want to solve this with libraries or any other way, you are welcome to do it your way.\n",
        "\n",
        "*Hint:* We advise you to take a look at the data before you start.\n",
        "**if you want to manually take a look at the data before you start, please see the content of the data [here](https://github.com/anyoneai/notebooks/blob/main/customers_and_orders/data/customers.csv).\n",
        "\n",
        "*Hint*: There are many ways to do this exercise you can do your own, although here's some help. You can solve this exercise reading and parsing CSV files, structuring data into dictionaries, and using for loops to navigate the contents\n",
        "\n",
        "*Hint*: Also, keep in mind that data might not be clean and you might have to figure out how to deal with that data from the code, without having to modify the data source.\n",
        "\n",
        "Below are the 5 questions you'll have to answer to pass the evaluation:"
      ]
    },
    {
      "cell_type": "markdown",
      "metadata": {
        "id": "kJq7S8sBfbOW"
      },
      "source": [
        "**Question 1:** How many customers are in the file?\n",
        "(as help, we have added some comments and starter code to help you structure the solution)"
      ]
    },
    {
      "cell_type": "code",
      "execution_count": 3,
      "metadata": {
        "colab": {
          "base_uri": "https://localhost:8080/"
        },
        "id": "oMnUFBFb2RUb",
        "outputId": "90bb5e77-8d14-4bf1-a866-e8a19cbe3a3f"
      },
      "outputs": [
        {
          "output_type": "stream",
          "name": "stdout",
          "text": [
            "602\n"
          ]
        }
      ],
      "source": [
        "from os.path import exists\n",
        "import csv\n",
        "\n",
        "# check if file can be found and open the file\n",
        "datafile = \"./sample_data/customers.csv\"\n",
        "if not exists(datafile):\n",
        "  raise SystemExit(\"You should run the first code cell and download the dataset files!\")\n",
        "\n",
        "# customers file is in the sample_data folder and can be opened.\n",
        "# Using csv reader is one way of dealing with the file\n",
        "# but it's up to you how you want to proceed\n",
        "with open(datafile, 'r') as fl:\n",
        "  csvreader = csv.reader(fl, delimiter=',')\n",
        "  # loop through the rows and count etc. THE REST IS UP TO YOU!\n",
        "  next(csvreader) # skip header\n",
        "  lines = sum(1 for row in csvreader)\n",
        "\n",
        "print(lines)"
      ]
    },
    {
      "cell_type": "markdown",
      "metadata": {
        "id": "uffBnNgz_570"
      },
      "source": [
        "\\**Question 2:** In how many different states do the customers live in?"
      ]
    },
    {
      "cell_type": "code",
      "execution_count": 4,
      "metadata": {
        "id": "Bi_yid0sMe3-",
        "outputId": "c7f55086-9d6f-4632-eeec-49bdd2d2fae1",
        "colab": {
          "base_uri": "https://localhost:8080/"
        }
      },
      "outputs": [
        {
          "output_type": "stream",
          "name": "stdout",
          "text": [
            "15\n"
          ]
        }
      ],
      "source": [
        "# open file and init vars\n",
        "unique_states = set()\n",
        "with open(datafile, 'r') as fl:\n",
        "  csvreader = csv.DictReader(fl)\n",
        "\n",
        "# evaluate the contents of the file\n",
        "  for row in csvreader:\n",
        "    state = row['State'].strip()\n",
        "    if state:\n",
        "      unique_states.add(state)\n",
        "\n",
        "print(len(unique_states))"
      ]
    },
    {
      "cell_type": "markdown",
      "metadata": {
        "id": "DC59SZYiMfNY"
      },
      "source": [
        "**Question 3** What is the state with most customers?"
      ]
    },
    {
      "cell_type": "code",
      "execution_count": 5,
      "metadata": {
        "id": "tfGU3w-OMhA9",
        "outputId": "c208d5cc-f94d-443b-f35d-468cd1039608",
        "colab": {
          "base_uri": "https://localhost:8080/"
        }
      },
      "outputs": [
        {
          "output_type": "stream",
          "name": "stdout",
          "text": [
            "['CA']\n"
          ]
        }
      ],
      "source": [
        "from collections import defaultdict\n",
        "\n",
        "count_states = defaultdict(int)\n",
        "\n",
        "with open(datafile, 'r') as fl:\n",
        "  csvreader = csv.DictReader(fl)\n",
        "# evaluate the contents of the file\n",
        "  for row in csvreader:\n",
        "    state = row['State'].strip()\n",
        "    if state:\n",
        "      count_states[state] += 1\n",
        "\n",
        "state_max = max(count_states.values())\n",
        "state_equals_value = [state for state, count in count_states.items() if count == state_max]\n",
        "\n",
        "print(state_equals_value)"
      ]
    },
    {
      "cell_type": "markdown",
      "metadata": {
        "id": "7mcM6cUAMhLB"
      },
      "source": [
        "**Question 4** What is the state with the least customers?"
      ]
    },
    {
      "cell_type": "code",
      "execution_count": null,
      "metadata": {
        "id": "8T0Ka2RqMi3P",
        "outputId": "f3072a33-3446-40c1-a866-02fa6d75f89a",
        "colab": {
          "base_uri": "https://localhost:8080/"
        }
      },
      "outputs": [
        {
          "output_type": "stream",
          "name": "stdout",
          "text": [
            "['WA', 'NH', 'ID', 'OR', 'MA', 'IN']\n"
          ]
        }
      ],
      "source": [
        "# open file and init vars\n",
        "count_states = defaultdict(int)\n",
        "\n",
        "with open(datafile, 'r') as fl:\n",
        "  csvreader = csv.DictReader(fl)\n",
        "# evaluate the contents of the file\n",
        "  for row in csvreader:\n",
        "    state = row['State'].strip()\n",
        "    if state:\n",
        "      count_states[state] += 1\n",
        "\n",
        "state_min = min(count_states.values())\n",
        "state_equals_value = [state for state, count in count_states.items() if count == state_min]\n",
        "\n",
        "print(state_equals_value)"
      ]
    },
    {
      "cell_type": "markdown",
      "metadata": {
        "id": "h6fIy7hXHF6A"
      },
      "source": [
        "**Question 5:** What is the most common last name?"
      ]
    },
    {
      "cell_type": "code",
      "execution_count": null,
      "metadata": {
        "id": "k8M1DmA75Km7",
        "colab": {
          "base_uri": "https://localhost:8080/"
        },
        "outputId": "4681b691-1adc-46a4-a003-0da2e8990a2d"
      },
      "outputs": [
        {
          "output_type": "stream",
          "name": "stdout",
          "text": [
            "smith\n"
          ]
        }
      ],
      "source": [
        "# open file and init vars\n",
        "count_lastname = defaultdict(int)\n",
        "with open(datafile,'r') as fl:\n",
        "  csvreader = csv.DictReader(fl)\n",
        "# evaluate the contents of the file\n",
        "  for row in csvreader:\n",
        "    lastname = row['LastName'].strip().lower()\n",
        "    if lastname:\n",
        "      count_lastname[lastname] += 1\n",
        "lastname_common = max(count_lastname, key = count_lastname.get)\n",
        "print(lastname_common)"
      ]
    },
    {
      "cell_type": "markdown",
      "metadata": {
        "id": "YPRma1t9NoFk"
      },
      "source": [
        "# Exercise 2: Processing Orders data (difficulty high)\n",
        "\n",
        "The second sample files contains orders placed by customers from the first file. Be careful, this file has many rows and you most likely should not print the contents of the whole file.\n",
        "\n",
        "The file contains the following columns: CustomerID, OrderID, Date, OrderTotal, ProductName, Price\n",
        "\n",
        "![Data sample](https://raw.githubusercontent.com/anyoneai/notebooks/main/customers_and_orders/images/orders.png)\n",
        "\n",
        "*Hint:* We advise you to take a look at the data before you start.\n",
        "**if you want to manually take a look at the data before you start, please see the content of the data [here](https://raw.githubusercontent.com/anyoneai/notebooks/main/customers_and_orders/data/orders.csv).\n",
        "\n",
        "*Hint*: There are many ways to do this exercise you can do your own, although here's some help. You can solve this exercise reading and parsing CSV files, structuring data into dictionaries, and using for loops to navigate the contents\n",
        "\n",
        "*Hint*: Also, the data is not clean and you will have to figure out how to deal with that data from the code, without having to modify the data source.\n",
        "\n",
        "\n",
        "\n",
        "**Question #1:** How many unique orders are in the orders.csv file?\n",
        "\n",
        "**Question #2:** What is the average number of items per order (rounded to two decimal places)?\n",
        "\n",
        "**Question #3:** What is the highest number of items per order?\n",
        "\n",
        "**Question #4:** What is the number of orders placed in October 2021?\n",
        "\n",
        "**Question #5:** Which customer spent the most amount of money in 2021?\n",
        "\n",
        "**Question #6:** Historically, what is the best month for sales?\n",
        "\n",
        "Once you get your answers, remember to go back to the course and introduce them in the multiple choice quiz"
      ]
    },
    {
      "cell_type": "markdown",
      "source": [
        "**Question #1**"
      ],
      "metadata": {
        "id": "4bMxcTqlydn_"
      }
    },
    {
      "cell_type": "code",
      "execution_count": 46,
      "metadata": {
        "id": "8ipJTrfs5QVM",
        "colab": {
          "base_uri": "https://localhost:8080/"
        },
        "outputId": "faa79534-d253-4082-dc5e-9a66dc321e7b"
      },
      "outputs": [
        {
          "output_type": "stream",
          "name": "stdout",
          "text": [
            "Question #1: 16672\n",
            "Question #2: 1.76\n",
            "Question #3: 35\n",
            "Question #4: 267\n",
            "Question #5: 5172443\n",
            "Question #6: January\n"
          ]
        }
      ],
      "source": [
        "from datetime import datetime\n",
        "\n",
        "# open and evaluate orders.csv\n",
        "# check if file can be found and open the file\n",
        "datafile = \"./sample_data/orders.csv\"\n",
        "unique_orders = set()\n",
        "order_counts = defaultdict(int)\n",
        "customer_spending =  defaultdict(float)\n",
        "orders_in_october = set()\n",
        "monthly_sales = defaultdict(float)\n",
        "orders = {}\n",
        "\n",
        "if not exists(datafile):\n",
        "  raise SystemExit(\"You should run the first code cell and download the dataset files!\")\n",
        "\n",
        "# customers file is in the sample_data folder and can be opened.\n",
        "# Using csv reader is one way of dealing with the file\n",
        "# but it's up to you how you want to proceed\n",
        "with open(datafile, 'r') as fl:\n",
        "  csvreader = csv.DictReader(fl)\n",
        "  for row in csvreader:\n",
        "    unique_orders.add(row['OrderID'])\n",
        "    order_id = (row['OrderID'])\n",
        "    order_counts[order_id] += 1\n",
        "\n",
        "    date_str = row['Date'].strip() # no spaces\n",
        "    r_order_total = float(row['OrderTotal'])\n",
        "    customer_id = row['CustomerID']\n",
        "\n",
        "    if not date_str or order_id in orders: # empty datetime\n",
        "      continue\n",
        "\n",
        "    order_date = datetime.strptime(date_str, '%Y-%m-%d %H:%M:%S.%f')\n",
        "    if order_date.year == 2021 and order_date.month == 10:\n",
        "      orders_in_october.add(row['OrderID'])\n",
        "\n",
        "    if order_date.year == 2021:\n",
        "      customer_spending[customer_id] += r_order_total\n",
        "      orders[order_id] = (customer_id, r_order_total)\n",
        "\n",
        "    year_month = order_date.strftime('%Y-%m')\n",
        "    monthly_sales[year_month] += r_order_total\n",
        "\n",
        "total_orders = len(order_counts)\n",
        "total_items = sum(order_counts.values())\n",
        "max_items = max(order_counts.values())\n",
        "average_items = round(total_items / total_orders, 2)\n",
        "top_customer = max(customer_spending, key=customer_spending.get)\n",
        "max_spent = round(customer_spending[top_customer], 2)\n",
        "best_month = max(monthly_sales, key=monthly_sales.get)\n",
        "month = datetime.strptime(best_month, '%Y-%m')\n",
        "\n",
        "print(f\"Question #1: {len(unique_orders)}\")\n",
        "print(f\"Question #2: {average_items}\")\n",
        "print(f\"Question #3: {max_items}\")\n",
        "print(f\"Question #4: {len(orders_in_october)}\")\n",
        "print(f\"Question #5: {top_customer}\")\n",
        "print(f\"Question #6: {month.strftime('%B')}\")"
      ]
    },
    {
      "cell_type": "markdown",
      "metadata": {
        "id": "ie0JW4FAk6Os"
      },
      "source": [
        "# Finished!\n",
        "\n",
        "Hope this was not too difficult and slicing and dicing the datasets was some fun. Now head on back to the course and provide the answers to the questions from this exercise."
      ]
    }
  ],
  "metadata": {
    "colab": {
      "name": "customers_and_orders.ipynb",
      "provenance": []
    },
    "kernelspec": {
      "display_name": "Python 3 (ipykernel)",
      "language": "python",
      "name": "python3"
    },
    "language_info": {
      "codemirror_mode": {
        "name": "ipython",
        "version": 3
      },
      "file_extension": ".py",
      "mimetype": "text/x-python",
      "name": "python",
      "nbconvert_exporter": "python",
      "pygments_lexer": "ipython3",
      "version": "3.9.9"
    }
  },
  "nbformat": 4,
  "nbformat_minor": 0
}